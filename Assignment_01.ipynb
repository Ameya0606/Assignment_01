{
 "cells": [
  {
   "cell_type": "markdown",
   "id": "49a1eeff",
   "metadata": {},
   "source": [
    "WAP to accept two numbers from the user and display their sum"
   ]
  },
  {
   "cell_type": "code",
   "execution_count": 1,
   "id": "efa7395d",
   "metadata": {},
   "outputs": [
    {
     "name": "stdout",
     "output_type": "stream",
     "text": [
      "Enter number one: 5\n",
      "Enter number two: 10\n",
      "15\n"
     ]
    }
   ],
   "source": [
    "a = int(input(\"Enter number one: \"))\n",
    "b = int(input(\"Enter number two: \"))\n",
    "print(a+b)"
   ]
  },
  {
   "cell_type": "markdown",
   "id": "3aeb6c2e",
   "metadata": {},
   "source": [
    "WAP to accept radius of a Circle from the user and calculate area and circumference"
   ]
  },
  {
   "cell_type": "code",
   "execution_count": 2,
   "id": "99dc42b6",
   "metadata": {},
   "outputs": [
    {
     "name": "stdout",
     "output_type": "stream",
     "text": [
      "Enter radius: 6\n",
      "The area is,  113.14285714285714\n",
      "The circumference is,  37.714285714285715\n"
     ]
    }
   ],
   "source": [
    "circle = int(input(\"Enter radius: \"))\n",
    "area = 22/7 * circle * circle\n",
    "print(\"The area is, \",area)\n",
    "circumference = 2 * 22/7 * circle\n",
    "print(\"The circumference is, \",circumference)"
   ]
  },
  {
   "cell_type": "markdown",
   "id": "aa1cb9b2",
   "metadata": {},
   "source": [
    "WAP to accept roll number , grade and percentage as input from the user and display it back"
   ]
  },
  {
   "cell_type": "code",
   "execution_count": 3,
   "id": "8598e759",
   "metadata": {},
   "outputs": [
    {
     "name": "stdout",
     "output_type": "stream",
     "text": [
      "Enter your roll nom.25\n",
      "Enter your gradeB\n",
      "Enter your percentage78\n",
      "Roll number:  25 Grade:  B Percentage:  78\n"
     ]
    }
   ],
   "source": [
    "roll_nom = int(input(\"Enter your roll nom.\"))\n",
    "grade = input(\"Enter your grade\")\n",
    "percent = int(input(\"Enter your percentage\"))\n",
    "print(\"Roll number: \", roll_nom , \"Grade: \",grade , \"Percentage: \",percent)"
   ]
  },
  {
   "cell_type": "markdown",
   "id": "43908b02",
   "metadata": {},
   "source": [
    "Write a program that asks the user to enter his/her name and age. Print out a message , displaying the user’s name along with the year in which they will turn 100 years old."
   ]
  },
  {
   "cell_type": "code",
   "execution_count": 4,
   "id": "1af17b8d",
   "metadata": {},
   "outputs": [
    {
     "name": "stdout",
     "output_type": "stream",
     "text": [
      "Enter your name : Ameya\n",
      "Enter your age: 22\n",
      "Ameya You will turn 100 years old in  2100 years\n"
     ]
    }
   ],
   "source": [
    "name = input(\"Enter your name : \")\n",
    "age = int(input(\"Enter your age: \"))\n",
    "update = 2022-age\n",
    "update =update + 100\n",
    "print(name, \"You will turn 100 years old in \", update, \"years\")"
   ]
  },
  {
   "cell_type": "markdown",
   "id": "7df99984",
   "metadata": {},
   "source": [
    "Write a program that asks the user to input 2 integers and adds them . Accept both the numbers in a single line only\n"
   ]
  },
  {
   "cell_type": "code",
   "execution_count": 5,
   "id": "d4bf6e03",
   "metadata": {},
   "outputs": [
    {
     "name": "stdout",
     "output_type": "stream",
     "text": [
      "Enter 2 number with space10 20\n",
      "30\n"
     ]
    }
   ],
   "source": [
    "x = input(\"Enter 2 number with space\")\n",
    "a,b = x.split()\n",
    "a = int(a)\n",
    "b = int(b)\n",
    "print(a+b)"
   ]
  },
  {
   "cell_type": "markdown",
   "id": "528dfbaa",
   "metadata": {},
   "source": [
    "Write a Python program which accepts the user's first and last name and print them in reverse order with a space between them."
   ]
  },
  {
   "cell_type": "code",
   "execution_count": 6,
   "id": "1c4c1230",
   "metadata": {},
   "outputs": [
    {
     "name": "stdout",
     "output_type": "stream",
     "text": [
      "Enter your nameAmeya Kandalkar\n",
      "rakladnaK ayemA\n"
     ]
    }
   ],
   "source": [
    "name = input(\"Enter your name\")\n",
    "print(name[::-1])"
   ]
  },
  {
   "cell_type": "markdown",
   "id": "50dfb807",
   "metadata": {},
   "source": [
    "15/12/22"
   ]
  },
  {
   "cell_type": "markdown",
   "id": "3b595c27",
   "metadata": {},
   "source": [
    "WAP to accept an integer from the user and check whether it is an even or odd "
   ]
  },
  {
   "cell_type": "code",
   "execution_count": 7,
   "id": "59953530",
   "metadata": {},
   "outputs": [
    {
     "name": "stdout",
     "output_type": "stream",
     "text": [
      "enter the number: 456185\n",
      "number is odd\n"
     ]
    }
   ],
   "source": [
    "num = int(input(\"enter the number: \"))\n",
    "if num % 2 ==0:\n",
    "    print(\"number is even\")\n",
    "else:\n",
    "    print(\"number is odd\")"
   ]
  },
  {
   "cell_type": "markdown",
   "id": "33150a1b",
   "metadata": {},
   "source": [
    "WAP to accept a character from the user and check whether it is a capital letter or small letter. Assume user will input only alphabets"
   ]
  },
  {
   "cell_type": "code",
   "execution_count": 8,
   "id": "26c1c8ad",
   "metadata": {},
   "outputs": [
    {
     "name": "stdout",
     "output_type": "stream",
     "text": [
      "Enter your nameAMEYA\n",
      "upper\n"
     ]
    }
   ],
   "source": [
    "name = str(input(\"Enter your name\"))\n",
    "if name ==name.lower():\n",
    "    print('lower')\n",
    "else:\n",
    "    print('upper')"
   ]
  },
  {
   "cell_type": "markdown",
   "id": "460226f1",
   "metadata": {},
   "source": [
    "WAP to accept a character from the user and check whether it is a capital letter or small letter or a digit or some special symbol"
   ]
  },
  {
   "cell_type": "code",
   "execution_count": 10,
   "id": "184f8099",
   "metadata": {},
   "outputs": [
    {
     "name": "stdout",
     "output_type": "stream",
     "text": [
      "Enter your character: %\n",
      "special\n"
     ]
    }
   ],
   "source": [
    "char=input(\"Enter your character: \")\n",
    "if char >= 'a' and char <= 'z':\n",
    "    print(\"small\")\n",
    "elif char >= 'A' and char <= 'Z':\n",
    "    print(\"capital\")\n",
    "elif(char>= '0' and char <= '9'):\n",
    "    print(\"digit\")\n",
    "else:\n",
    "    print(\"special\")\n",
    "\n"
   ]
  },
  {
   "cell_type": "markdown",
   "id": "d14783fe",
   "metadata": {},
   "source": [
    "WAP to accept 3 integers from the user and without using any logical operator and cascading of relational operators , find out the greatest number amongst them"
   ]
  },
  {
   "cell_type": "code",
   "execution_count": 11,
   "id": "23b20e98",
   "metadata": {},
   "outputs": [
    {
     "name": "stdout",
     "output_type": "stream",
     "text": [
      "55\n",
      "45\n",
      "98\n",
      "the max is  98\n"
     ]
    }
   ],
   "source": [
    "x = int(input())\n",
    "y = int(input())\n",
    "z = int(input())\n",
    "print(\"the max is \", max(x,y,z))"
   ]
  },
  {
   "cell_type": "markdown",
   "id": "be598155",
   "metadata": {},
   "source": [
    "WAP to accept a year from the user and check whether it is a leap year or not."
   ]
  },
  {
   "cell_type": "code",
   "execution_count": 12,
   "id": "645639e4",
   "metadata": {},
   "outputs": [
    {
     "name": "stdout",
     "output_type": "stream",
     "text": [
      "Enter the year: 2016\n",
      "It is a leap year\n"
     ]
    }
   ],
   "source": [
    "year = int(input(\"Enter the year: \"))\n",
    "if year % 400 ==0:\n",
    "    print(\"It is a leap year\")\n",
    "elif year % 4 ==0:\n",
    "    print(\"It is a leap year\")\n",
    "elif year % 100 !=0:\n",
    "    print(\"It is not a leap year\")\n",
    "else:\n",
    "    print(\"It is not a leap year\")"
   ]
  },
  {
   "cell_type": "markdown",
   "id": "faa5a954",
   "metadata": {},
   "source": [
    "You have to develop a number guessing game. Following are the steps needed:"
   ]
  },
  {
   "cell_type": "code",
   "execution_count": 15,
   "id": "1a100141",
   "metadata": {},
   "outputs": [
    {
     "name": "stdout",
     "output_type": "stream",
     "text": [
      "Enter your number between 1 to 100: 50\n",
      "Number is too large.\n",
      "Enter your number between 1 to 100: 30\n",
      "Number is too large.\n",
      "Enter your number between 1 to 100: 20\n",
      "Number is too large.\n",
      "Enter your number between 1 to 100: 5\n",
      "Number is too large.\n",
      "Enter your number between 1 to 100: 2\n",
      "Number is too large.\n",
      "Enter your number between 1 to 100: 1\n",
      "Congratulations! You guessed it right\n"
     ]
    }
   ],
   "source": [
    "import random\n",
    "number = random.randrange(1,100)\n",
    "guess = int(input(\"Enter your number between 1 to 100: \"))\n",
    "while number != guess:\n",
    "    if guess> number:\n",
    "        print(\"Number is too large.\")\n",
    "        guess = int(input(\"Enter your number between 1 to 100: \"))\n",
    "    elif guess < number:\n",
    "        print(\"Number is too small.\")\n",
    "        guess = int(input(\"Enter your number between 1 to 100: \"))\n",
    "        break\n",
    "print(\"Congratulations! You guessed it right\")"
   ]
  },
  {
   "cell_type": "markdown",
   "id": "47040a2e",
   "metadata": {},
   "source": [
    "Write a program to accept a string from the user and display it vertically but don’t display the vowels in it."
   ]
  },
  {
   "cell_type": "code",
   "execution_count": 17,
   "id": "56f050ca",
   "metadata": {},
   "outputs": [
    {
     "name": "stdout",
     "output_type": "stream",
     "text": [
      "Enter your nameameya\n",
      "m\n",
      "y\n"
     ]
    }
   ],
   "source": [
    "name = input(\"Enter your name\")\n",
    "\n",
    "i = 0\n",
    "while i<len(name):\n",
    "    if name[i] not in 'aeiou':\n",
    "        print(name[i])\n",
    "    i=i+1"
   ]
  },
  {
   "cell_type": "markdown",
   "id": "c16e4636",
   "metadata": {},
   "source": [
    "Write a program to continuously accept integers from the user until the user types 0 and as soon as 0 is entered display sum of all the nos entered before 0"
   ]
  },
  {
   "cell_type": "code",
   "execution_count": 19,
   "id": "cf717cf6",
   "metadata": {},
   "outputs": [
    {
     "name": "stdout",
     "output_type": "stream",
     "text": [
      "Enter the number: 40\n",
      "Enter the number: 25\n",
      "Enter the number: 12\n",
      "Enter the number: 15\n",
      "Enter the number: 0\n",
      "92\n"
     ]
    }
   ],
   "source": [
    "abc =[]\n",
    "while True:\n",
    "    i=int(input(\"Enter the number: \"))\n",
    "    abc.append(i)\n",
    "    if i==0:\n",
    "        break\n",
    "add = sum(abc)        \n",
    "print(add)"
   ]
  },
  {
   "cell_type": "markdown",
   "id": "8579263a",
   "metadata": {},
   "source": [
    "Write a program using a for loop to accept a string from the user and display it vertically but don’t display the vowels in it."
   ]
  },
  {
   "cell_type": "code",
   "execution_count": 20,
   "id": "1f35faac",
   "metadata": {},
   "outputs": [
    {
     "name": "stdout",
     "output_type": "stream",
     "text": [
      "Enter your nameameya\n",
      "m\n",
      "y\n"
     ]
    }
   ],
   "source": [
    "vowles=['a','e','i','o','u']\n",
    "abc=[]\n",
    "name=str(input(\"Enter your name\"))\n",
    "for i in name:\n",
    "    if i not in vowles:\n",
    "        abc.append(i)\n",
    "for j in abc:\n",
    "    print(j)"
   ]
  },
  {
   "cell_type": "markdown",
   "id": "dcbb0e0f",
   "metadata": {},
   "source": [
    "Write a program to accept an integer from the user and display the sum of all the numbers from 1 to that number."
   ]
  },
  {
   "cell_type": "code",
   "execution_count": 23,
   "id": "a1eaae0b",
   "metadata": {},
   "outputs": [
    {
     "name": "stdout",
     "output_type": "stream",
     "text": [
      "Enter the number: 6\n",
      "21\n"
     ]
    }
   ],
   "source": [
    "integer=int(input(\"Enter the number: \"))\n",
    "lst=[]\n",
    "for i in range(integer+1):\n",
    "    lst.append(i)\n",
    "add=(sum(lst))\n",
    "print(add)\n",
    "\n"
   ]
  },
  {
   "cell_type": "markdown",
   "id": "4029f201",
   "metadata": {},
   "source": [
    "Write a program to accept an integer from the user and calculate its factorial"
   ]
  },
  {
   "cell_type": "code",
   "execution_count": 25,
   "id": "d2bc9954",
   "metadata": {},
   "outputs": [
    {
     "name": "stdout",
     "output_type": "stream",
     "text": [
      "Enter the number: 5\n",
      "The factorial of 5 is 120\n"
     ]
    }
   ],
   "source": [
    "num = int(input(\"Enter the number: \"))\n",
    "factorial = 1\n",
    "for i in range(1,num + 1):\n",
    "       factorial = factorial*i\n",
    "print(\"The factorial of\",num,\"is\",factorial)"
   ]
  },
  {
   "cell_type": "markdown",
   "id": "b205d91e",
   "metadata": {},
   "source": [
    "Write a program to print the following pattern "
   ]
  },
  {
   "cell_type": "code",
   "execution_count": 28,
   "id": "7c3876ae",
   "metadata": {},
   "outputs": [
    {
     "name": "stdout",
     "output_type": "stream",
     "text": [
      "***\n",
      "***\n",
      "***\n",
      "***\n"
     ]
    }
   ],
   "source": [
    "n = 3\n",
    "for i in range(0, n+1):\n",
    "    print(n * \"*\")"
   ]
  },
  {
   "cell_type": "markdown",
   "id": "b69f3670",
   "metadata": {},
   "source": [
    "Write a program to print the following pattern "
   ]
  },
  {
   "cell_type": "code",
   "execution_count": 29,
   "id": "7af8e7aa",
   "metadata": {},
   "outputs": [
    {
     "name": "stdout",
     "output_type": "stream",
     "text": [
      "*\n",
      "**\n",
      "***\n",
      "****\n"
     ]
    }
   ],
   "source": [
    "a = 4\n",
    "for i in range(0,a):\n",
    "    print(\"*\" * (i+1))"
   ]
  },
  {
   "cell_type": "markdown",
   "id": "e3547084",
   "metadata": {},
   "source": [
    "Write a program to print the following pattern "
   ]
  },
  {
   "cell_type": "code",
   "execution_count": 35,
   "id": "32444a2f",
   "metadata": {},
   "outputs": [
    {
     "name": "stdout",
     "output_type": "stream",
     "text": [
      "****\r\n",
      "***\r\n",
      "**\r\n",
      "*\r\n"
     ]
    }
   ],
   "source": [
    "a = 4\n",
    "for i in range(a, 0, -1):\n",
    "    for j in range(0, i):\n",
    "        print(\"*\", end=\"\")\n",
    "    print('\\r')"
   ]
  },
  {
   "cell_type": "markdown",
   "id": "4dcd8c68",
   "metadata": {},
   "source": [
    "Write a program to accept an integer from the user and display all the numbers from 1 to that number. Repeat the process until the user enters 0."
   ]
  },
  {
   "cell_type": "code",
   "execution_count": 36,
   "id": "e7751692",
   "metadata": {},
   "outputs": [
    {
     "name": "stdout",
     "output_type": "stream",
     "text": [
      "Enter the number: 3\n",
      "1\n",
      "2\n",
      "3\n",
      "Enter the number: 4\n",
      "1\n",
      "2\n",
      "3\n",
      "4\n",
      "Enter the number: 5\n",
      "1\n",
      "2\n",
      "3\n",
      "4\n",
      "5\n",
      "Enter the number: 0\n"
     ]
    }
   ],
   "source": [
    "while True:\n",
    "    integer=int(input(\"Enter the number: \"))\n",
    "    if integer==0:\n",
    "        break\n",
    "    else:\n",
    "        for i in range(1,integer+1):\n",
    "            print(i)\n"
   ]
  },
  {
   "cell_type": "code",
   "execution_count": null,
   "id": "f21c89f3",
   "metadata": {},
   "outputs": [],
   "source": []
  }
 ],
 "metadata": {
  "kernelspec": {
   "display_name": "Python 3 (ipykernel)",
   "language": "python",
   "name": "python3"
  },
  "language_info": {
   "codemirror_mode": {
    "name": "ipython",
    "version": 3
   },
   "file_extension": ".py",
   "mimetype": "text/x-python",
   "name": "python",
   "nbconvert_exporter": "python",
   "pygments_lexer": "ipython3",
   "version": "3.9.12"
  }
 },
 "nbformat": 4,
 "nbformat_minor": 5
}
